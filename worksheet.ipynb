{
  "nbformat": 4,
  "nbformat_minor": 0,
  "metadata": {
    "colab": {
      "provenance": [],
      "include_colab_link": true
    },
    "kernelspec": {
      "name": "python3",
      "display_name": "Python 3"
    },
    "language_info": {
      "name": "python"
    }
  },
  "cells": [
    {
      "cell_type": "markdown",
      "metadata": {
        "id": "view-in-github",
        "colab_type": "text"
      },
      "source": [
        "<a href=\"https://colab.research.google.com/github/PoppyDalamaZain/Kelompok3/blob/main/worksheet.ipynb\" target=\"_parent\"><img src=\"https://colab.research.google.com/assets/colab-badge.svg\" alt=\"Open In Colab\"/></a>"
      ]
    },
    {
      "cell_type": "markdown",
      "source": [
        "Data Mining Kelompok 3\n",
        "\n",
        "Ketua : Ahnaf Dzakwan Akbari (11200940000061)\n",
        "\n",
        "Anggota : \n",
        "\n",
        "- Firdha Wulandari (11200940000020)\n",
        "- Fida Suci Rahmani (11190940000027)\n",
        "- Poppy Dalama Zain (11200940000042)\n",
        "- Muhammad Dzakiy (11200940000056)"
      ],
      "metadata": {
        "id": "ydCpONbDACzi"
      }
    },
    {
      "cell_type": "markdown",
      "source": [
        "\n",
        "#Import Packages\n",
        "\n"
      ],
      "metadata": {
        "id": "AbopZkT_tC8e"
      }
    },
    {
      "cell_type": "code",
      "source": [
        "import warnings; warnings.simplefilter('ignore')\n",
        "\n",
        "try:\n",
        "    import google.colab; IN_COLAB = True\n",
        "    print(\"Installing the required modules\")\n",
        "    !pip install --upgrade umap-learn\n",
        "    !wget https://raw.githubusercontent.com/taudata-indonesia/eLearning/master/tau_unsup.py\n",
        "except:\n",
        "    IN_COLAB = False\n",
        "    print(\"Running the code locally, please make sure all the python module versions agree with colab environment and all data/assets downloaded\")"
      ],
      "metadata": {
        "id": "942L0M3csBau",
        "outputId": "1260f97b-c1cc-4702-cbca-48471b6db446",
        "colab": {
          "base_uri": "https://localhost:8080/"
        }
      },
      "execution_count": 1,
      "outputs": [
        {
          "output_type": "stream",
          "name": "stdout",
          "text": [
            "Installing the required modules\n",
            "Looking in indexes: https://pypi.org/simple, https://us-python.pkg.dev/colab-wheels/public/simple/\n",
            "Requirement already satisfied: umap-learn in /usr/local/lib/python3.7/dist-packages (0.5.3)\n",
            "Requirement already satisfied: numba>=0.49 in /usr/local/lib/python3.7/dist-packages (from umap-learn) (0.56.2)\n",
            "Requirement already satisfied: tqdm in /usr/local/lib/python3.7/dist-packages (from umap-learn) (4.64.1)\n",
            "Requirement already satisfied: scikit-learn>=0.22 in /usr/local/lib/python3.7/dist-packages (from umap-learn) (1.0.2)\n",
            "Requirement already satisfied: pynndescent>=0.5 in /usr/local/lib/python3.7/dist-packages (from umap-learn) (0.5.7)\n",
            "Requirement already satisfied: scipy>=1.0 in /usr/local/lib/python3.7/dist-packages (from umap-learn) (1.7.3)\n",
            "Requirement already satisfied: numpy>=1.17 in /usr/local/lib/python3.7/dist-packages (from umap-learn) (1.21.6)\n",
            "Requirement already satisfied: setuptools<60 in /usr/local/lib/python3.7/dist-packages (from numba>=0.49->umap-learn) (57.4.0)\n",
            "Requirement already satisfied: importlib-metadata in /usr/local/lib/python3.7/dist-packages (from numba>=0.49->umap-learn) (5.0.0)\n",
            "Requirement already satisfied: llvmlite<0.40,>=0.39.0dev0 in /usr/local/lib/python3.7/dist-packages (from numba>=0.49->umap-learn) (0.39.1)\n",
            "Requirement already satisfied: joblib>=0.11 in /usr/local/lib/python3.7/dist-packages (from pynndescent>=0.5->umap-learn) (1.2.0)\n",
            "Requirement already satisfied: threadpoolctl>=2.0.0 in /usr/local/lib/python3.7/dist-packages (from scikit-learn>=0.22->umap-learn) (3.1.0)\n",
            "Requirement already satisfied: typing-extensions>=3.6.4 in /usr/local/lib/python3.7/dist-packages (from importlib-metadata->numba>=0.49->umap-learn) (4.1.1)\n",
            "Requirement already satisfied: zipp>=0.5 in /usr/local/lib/python3.7/dist-packages (from importlib-metadata->numba>=0.49->umap-learn) (3.8.1)\n",
            "--2022-10-12 05:35:51--  https://raw.githubusercontent.com/taudata-indonesia/eLearning/master/tau_unsup.py\n",
            "Resolving raw.githubusercontent.com (raw.githubusercontent.com)... 185.199.108.133, 185.199.109.133, 185.199.110.133, ...\n",
            "Connecting to raw.githubusercontent.com (raw.githubusercontent.com)|185.199.108.133|:443... connected.\n",
            "HTTP request sent, awaiting response... 200 OK\n",
            "Length: 17387 (17K) [text/plain]\n",
            "Saving to: ‘tau_unsup.py.1’\n",
            "\n",
            "tau_unsup.py.1      100%[===================>]  16.98K  --.-KB/s    in 0s      \n",
            "\n",
            "2022-10-12 05:35:51 (145 MB/s) - ‘tau_unsup.py.1’ saved [17387/17387]\n",
            "\n"
          ]
        }
      ]
    },
    {
      "cell_type": "code",
      "source": [
        "import numpy as np\n",
        "import pandas as pd\n",
        "import matplotlib.pyplot as plt\n",
        "import seaborn as sns\n",
        "import warnings; warnings.simplefilter('ignore')\n",
        "from datetime import datetime\n",
        "import warnings; warnings.simplefilter('ignore')\n",
        "#import umap, numpy as np, tau_unsup as tau, matplotlib.pyplot as plt, pandas as pd, seaborn as sns\n",
        "from sklearn import cluster, datasets\n",
        "from sklearn.metrics import silhouette_score as siluet\n",
        "from sklearn.metrics.cluster import homogeneity_score as purity\n",
        "from sklearn.metrics import normalized_mutual_info_score as NMI \n",
        "\n",
        "sns.set(style=\"ticks\", color_codes=True)\n",
        "random_state = 99"
      ],
      "metadata": {
        "id": "JhBJtvU7s6jT"
      },
      "execution_count": 2,
      "outputs": []
    },
    {
      "cell_type": "markdown",
      "source": [
        "#Memanggil Data"
      ],
      "metadata": {
        "id": "vD_DZ2rptxx9"
      }
    },
    {
      "cell_type": "code",
      "source": [
        " # Running in Google Colab\n",
        "!mkdir data\n",
        "!wget -P data/ https://raw.githubusercontent.com/PoppyDalamaZain/Kelompok3/main/data/Case-Study-02-MixITup_.csv\n",
        "df = pd.read_csv(\"data/Case-Study-02-MixITup_.csv\", low_memory = False, encoding='utf8')\n",
        "    \n",
        "df.shape"
      ],
      "metadata": {
        "id": "Auc7TJRDt6TM",
        "colab": {
          "base_uri": "https://localhost:8080/"
        },
        "outputId": "75400ecf-fff9-43c7-e489-94738377c882"
      },
      "execution_count": 3,
      "outputs": [
        {
          "output_type": "stream",
          "name": "stdout",
          "text": [
            "mkdir: cannot create directory ‘data’: File exists\n",
            "--2022-10-12 05:35:52--  https://raw.githubusercontent.com/PoppyDalamaZain/Kelompok3/main/data/Case-Study-02-MixITup_.csv\n",
            "Resolving raw.githubusercontent.com (raw.githubusercontent.com)... 185.199.109.133, 185.199.111.133, 185.199.108.133, ...\n",
            "Connecting to raw.githubusercontent.com (raw.githubusercontent.com)|185.199.109.133|:443... connected.\n",
            "HTTP request sent, awaiting response... 200 OK\n",
            "Length: 9296 (9.1K) [text/plain]\n",
            "Saving to: ‘data/Case-Study-02-MixITup_.csv.5’\n",
            "\n",
            "Case-Study-02-MixIT 100%[===================>]   9.08K  --.-KB/s    in 0s      \n",
            "\n",
            "2022-10-12 05:35:52 (113 MB/s) - ‘data/Case-Study-02-MixITup_.csv.5’ saved [9296/9296]\n",
            "\n"
          ]
        },
        {
          "output_type": "execute_result",
          "data": {
            "text/plain": [
              "(200, 10)"
            ]
          },
          "metadata": {},
          "execution_count": 3
        }
      ]
    },
    {
      "cell_type": "code",
      "source": [
        "df.head"
      ],
      "metadata": {
        "colab": {
          "base_uri": "https://localhost:8080/"
        },
        "id": "geyniOMx6m8R",
        "outputId": "b52420b1-2353-4215-e0b1-8c3a058ac5b1"
      },
      "execution_count": 4,
      "outputs": [
        {
          "output_type": "execute_result",
          "data": {
            "text/plain": [
              "<bound method NDFrame.head of       ID Jenis Kelamin  Umur  Pendapatan-per-bulan  skor-pengeluaran  Menikah  \\\n",
              "0    101        Wanita    49              13114754                52        1   \n",
              "1    102        Wanita    32              33606557                86        1   \n",
              "2    103          Pria    51              15983606                41        1   \n",
              "3    104          Pria    19              12704918                55        0   \n",
              "4    105        Wanita    38              20081967                42        1   \n",
              "..   ...           ...   ...                   ...               ...      ...   \n",
              "195  296          Pria    31               4098360                73        1   \n",
              "196  297          Pria    57              15983606                51        1   \n",
              "197  298        Wanita    35              43032786                79        1   \n",
              "198  299        Wanita    23               1229508                94        1   \n",
              "199  300          Pria    50               1639344                14        1   \n",
              "\n",
              "          Kota  Promo HariFav  FavFlavor  \n",
              "0      Jakarta      1   Sabtu          2  \n",
              "1        Depok      1  Minggu          6  \n",
              "2      Jakarta      2  Minggu          3  \n",
              "3      Jakarta      1    Rabu          7  \n",
              "4      Jakarta      2   Senin          8  \n",
              "..         ...    ...     ...        ...  \n",
              "195      Depok      1   Senin          0  \n",
              "196    Jakarta      1  Minggu          5  \n",
              "197      Depok      1   Senin          7  \n",
              "198      Depok      0  Selasa          0  \n",
              "199  Tangerang      3  Minggu          6  \n",
              "\n",
              "[200 rows x 10 columns]>"
            ]
          },
          "metadata": {},
          "execution_count": 4
        }
      ]
    },
    {
      "cell_type": "markdown",
      "source": [
        "#Melihat Variabel"
      ],
      "metadata": {
        "id": "pu_gvuLaJ8w8"
      }
    },
    {
      "cell_type": "code",
      "source": [
        "df.columns"
      ],
      "metadata": {
        "id": "Z4e1sTavKOCQ",
        "colab": {
          "base_uri": "https://localhost:8080/"
        },
        "outputId": "c04df9c7-ca4e-4de1-81aa-b522e6526460"
      },
      "execution_count": 5,
      "outputs": [
        {
          "output_type": "execute_result",
          "data": {
            "text/plain": [
              "Index(['ID', 'Jenis Kelamin', 'Umur', 'Pendapatan-per-bulan',\n",
              "       'skor-pengeluaran', 'Menikah', 'Kota', 'Promo', 'HariFav', 'FavFlavor'],\n",
              "      dtype='object')"
            ]
          },
          "metadata": {},
          "execution_count": 5
        }
      ]
    },
    {
      "cell_type": "markdown",
      "source": [
        "#Jumlah Baris dan Kolom pada data"
      ],
      "metadata": {
        "id": "Myh8v8QbKZHk"
      }
    },
    {
      "cell_type": "code",
      "source": [
        "B, K = df.shape\n",
        "print('Baris = ', B, ', Kolom = ', K)"
      ],
      "metadata": {
        "id": "kdSOp7gtKfVJ",
        "colab": {
          "base_uri": "https://localhost:8080/"
        },
        "outputId": "c4e3662d-97e5-4334-dc28-e80a1c3d2b91"
      },
      "execution_count": 6,
      "outputs": [
        {
          "output_type": "stream",
          "name": "stdout",
          "text": [
            "Baris =  200 , Kolom =  10\n"
          ]
        }
      ]
    },
    {
      "cell_type": "markdown",
      "source": [
        "#Melihat Tipe dari setiap Variabel"
      ],
      "metadata": {
        "id": "X0hQy0JQKhrw"
      }
    },
    {
      "cell_type": "code",
      "source": [
        "df.info()"
      ],
      "metadata": {
        "id": "s_blGXLrKpdk",
        "colab": {
          "base_uri": "https://localhost:8080/"
        },
        "outputId": "0adeddab-c316-4ce1-ea26-e9e2223baa1d"
      },
      "execution_count": 7,
      "outputs": [
        {
          "output_type": "stream",
          "name": "stdout",
          "text": [
            "<class 'pandas.core.frame.DataFrame'>\n",
            "RangeIndex: 200 entries, 0 to 199\n",
            "Data columns (total 10 columns):\n",
            " #   Column                Non-Null Count  Dtype \n",
            "---  ------                --------------  ----- \n",
            " 0   ID                    200 non-null    int64 \n",
            " 1   Jenis Kelamin         200 non-null    object\n",
            " 2   Umur                  200 non-null    int64 \n",
            " 3   Pendapatan-per-bulan  200 non-null    int64 \n",
            " 4   skor-pengeluaran      200 non-null    int64 \n",
            " 5   Menikah               200 non-null    int64 \n",
            " 6   Kota                  200 non-null    object\n",
            " 7   Promo                 200 non-null    int64 \n",
            " 8   HariFav               200 non-null    object\n",
            " 9   FavFlavor             200 non-null    int64 \n",
            "dtypes: int64(7), object(3)\n",
            "memory usage: 15.8+ KB\n"
          ]
        }
      ]
    },
    {
      "cell_type": "markdown",
      "source": [
        "#Mengubah object menjadi kategorik"
      ],
      "metadata": {
        "id": "MxVM4bT30uRQ"
      }
    },
    {
      "cell_type": "code",
      "source": [
        "df['Jenis Kelamin'] = df['Jenis Kelamin'].astype('category')\n",
        "#df['Menikah'] = df['Menikah'].astype('category')\n",
        "df['Kota'] = df['Kota'].astype('category')\n",
        "#df['Promo'] = df['Promo'].astype('category')\n",
        "df['HariFav'] = df['HariFav'].astype('category')\n",
        "#df['FavFlavor'] = df['FavFlavor'].astype('category')\n"
      ],
      "metadata": {
        "id": "iEyJnbH30zH7"
      },
      "execution_count": 8,
      "outputs": []
    },
    {
      "cell_type": "markdown",
      "source": [
        "#Menghapus variabel yang tidak diperlukan"
      ],
      "metadata": {
        "id": "9-ypHUIQKuHv"
      }
    },
    {
      "cell_type": "code",
      "source": [
        "data_baru = df.drop(columns = ['ID'])\n",
        "data_baru"
      ],
      "metadata": {
        "id": "HFJiMJgWK2dv",
        "colab": {
          "base_uri": "https://localhost:8080/",
          "height": 423
        },
        "outputId": "aa8f1e9d-9d59-4331-fa3d-15131a670d8a"
      },
      "execution_count": 9,
      "outputs": [
        {
          "output_type": "execute_result",
          "data": {
            "text/plain": [
              "    Jenis Kelamin  Umur  Pendapatan-per-bulan  skor-pengeluaran  Menikah  \\\n",
              "0          Wanita    49              13114754                52        1   \n",
              "1          Wanita    32              33606557                86        1   \n",
              "2            Pria    51              15983606                41        1   \n",
              "3            Pria    19              12704918                55        0   \n",
              "4          Wanita    38              20081967                42        1   \n",
              "..            ...   ...                   ...               ...      ...   \n",
              "195          Pria    31               4098360                73        1   \n",
              "196          Pria    57              15983606                51        1   \n",
              "197        Wanita    35              43032786                79        1   \n",
              "198        Wanita    23               1229508                94        1   \n",
              "199          Pria    50               1639344                14        1   \n",
              "\n",
              "          Kota  Promo HariFav  FavFlavor  \n",
              "0      Jakarta      1   Sabtu          2  \n",
              "1        Depok      1  Minggu          6  \n",
              "2      Jakarta      2  Minggu          3  \n",
              "3      Jakarta      1    Rabu          7  \n",
              "4      Jakarta      2   Senin          8  \n",
              "..         ...    ...     ...        ...  \n",
              "195      Depok      1   Senin          0  \n",
              "196    Jakarta      1  Minggu          5  \n",
              "197      Depok      1   Senin          7  \n",
              "198      Depok      0  Selasa          0  \n",
              "199  Tangerang      3  Minggu          6  \n",
              "\n",
              "[200 rows x 9 columns]"
            ],
            "text/html": [
              "\n",
              "  <div id=\"df-8400fb59-d7e3-4674-a424-2329792739c2\">\n",
              "    <div class=\"colab-df-container\">\n",
              "      <div>\n",
              "<style scoped>\n",
              "    .dataframe tbody tr th:only-of-type {\n",
              "        vertical-align: middle;\n",
              "    }\n",
              "\n",
              "    .dataframe tbody tr th {\n",
              "        vertical-align: top;\n",
              "    }\n",
              "\n",
              "    .dataframe thead th {\n",
              "        text-align: right;\n",
              "    }\n",
              "</style>\n",
              "<table border=\"1\" class=\"dataframe\">\n",
              "  <thead>\n",
              "    <tr style=\"text-align: right;\">\n",
              "      <th></th>\n",
              "      <th>Jenis Kelamin</th>\n",
              "      <th>Umur</th>\n",
              "      <th>Pendapatan-per-bulan</th>\n",
              "      <th>skor-pengeluaran</th>\n",
              "      <th>Menikah</th>\n",
              "      <th>Kota</th>\n",
              "      <th>Promo</th>\n",
              "      <th>HariFav</th>\n",
              "      <th>FavFlavor</th>\n",
              "    </tr>\n",
              "  </thead>\n",
              "  <tbody>\n",
              "    <tr>\n",
              "      <th>0</th>\n",
              "      <td>Wanita</td>\n",
              "      <td>49</td>\n",
              "      <td>13114754</td>\n",
              "      <td>52</td>\n",
              "      <td>1</td>\n",
              "      <td>Jakarta</td>\n",
              "      <td>1</td>\n",
              "      <td>Sabtu</td>\n",
              "      <td>2</td>\n",
              "    </tr>\n",
              "    <tr>\n",
              "      <th>1</th>\n",
              "      <td>Wanita</td>\n",
              "      <td>32</td>\n",
              "      <td>33606557</td>\n",
              "      <td>86</td>\n",
              "      <td>1</td>\n",
              "      <td>Depok</td>\n",
              "      <td>1</td>\n",
              "      <td>Minggu</td>\n",
              "      <td>6</td>\n",
              "    </tr>\n",
              "    <tr>\n",
              "      <th>2</th>\n",
              "      <td>Pria</td>\n",
              "      <td>51</td>\n",
              "      <td>15983606</td>\n",
              "      <td>41</td>\n",
              "      <td>1</td>\n",
              "      <td>Jakarta</td>\n",
              "      <td>2</td>\n",
              "      <td>Minggu</td>\n",
              "      <td>3</td>\n",
              "    </tr>\n",
              "    <tr>\n",
              "      <th>3</th>\n",
              "      <td>Pria</td>\n",
              "      <td>19</td>\n",
              "      <td>12704918</td>\n",
              "      <td>55</td>\n",
              "      <td>0</td>\n",
              "      <td>Jakarta</td>\n",
              "      <td>1</td>\n",
              "      <td>Rabu</td>\n",
              "      <td>7</td>\n",
              "    </tr>\n",
              "    <tr>\n",
              "      <th>4</th>\n",
              "      <td>Wanita</td>\n",
              "      <td>38</td>\n",
              "      <td>20081967</td>\n",
              "      <td>42</td>\n",
              "      <td>1</td>\n",
              "      <td>Jakarta</td>\n",
              "      <td>2</td>\n",
              "      <td>Senin</td>\n",
              "      <td>8</td>\n",
              "    </tr>\n",
              "    <tr>\n",
              "      <th>...</th>\n",
              "      <td>...</td>\n",
              "      <td>...</td>\n",
              "      <td>...</td>\n",
              "      <td>...</td>\n",
              "      <td>...</td>\n",
              "      <td>...</td>\n",
              "      <td>...</td>\n",
              "      <td>...</td>\n",
              "      <td>...</td>\n",
              "    </tr>\n",
              "    <tr>\n",
              "      <th>195</th>\n",
              "      <td>Pria</td>\n",
              "      <td>31</td>\n",
              "      <td>4098360</td>\n",
              "      <td>73</td>\n",
              "      <td>1</td>\n",
              "      <td>Depok</td>\n",
              "      <td>1</td>\n",
              "      <td>Senin</td>\n",
              "      <td>0</td>\n",
              "    </tr>\n",
              "    <tr>\n",
              "      <th>196</th>\n",
              "      <td>Pria</td>\n",
              "      <td>57</td>\n",
              "      <td>15983606</td>\n",
              "      <td>51</td>\n",
              "      <td>1</td>\n",
              "      <td>Jakarta</td>\n",
              "      <td>1</td>\n",
              "      <td>Minggu</td>\n",
              "      <td>5</td>\n",
              "    </tr>\n",
              "    <tr>\n",
              "      <th>197</th>\n",
              "      <td>Wanita</td>\n",
              "      <td>35</td>\n",
              "      <td>43032786</td>\n",
              "      <td>79</td>\n",
              "      <td>1</td>\n",
              "      <td>Depok</td>\n",
              "      <td>1</td>\n",
              "      <td>Senin</td>\n",
              "      <td>7</td>\n",
              "    </tr>\n",
              "    <tr>\n",
              "      <th>198</th>\n",
              "      <td>Wanita</td>\n",
              "      <td>23</td>\n",
              "      <td>1229508</td>\n",
              "      <td>94</td>\n",
              "      <td>1</td>\n",
              "      <td>Depok</td>\n",
              "      <td>0</td>\n",
              "      <td>Selasa</td>\n",
              "      <td>0</td>\n",
              "    </tr>\n",
              "    <tr>\n",
              "      <th>199</th>\n",
              "      <td>Pria</td>\n",
              "      <td>50</td>\n",
              "      <td>1639344</td>\n",
              "      <td>14</td>\n",
              "      <td>1</td>\n",
              "      <td>Tangerang</td>\n",
              "      <td>3</td>\n",
              "      <td>Minggu</td>\n",
              "      <td>6</td>\n",
              "    </tr>\n",
              "  </tbody>\n",
              "</table>\n",
              "<p>200 rows × 9 columns</p>\n",
              "</div>\n",
              "      <button class=\"colab-df-convert\" onclick=\"convertToInteractive('df-8400fb59-d7e3-4674-a424-2329792739c2')\"\n",
              "              title=\"Convert this dataframe to an interactive table.\"\n",
              "              style=\"display:none;\">\n",
              "        \n",
              "  <svg xmlns=\"http://www.w3.org/2000/svg\" height=\"24px\"viewBox=\"0 0 24 24\"\n",
              "       width=\"24px\">\n",
              "    <path d=\"M0 0h24v24H0V0z\" fill=\"none\"/>\n",
              "    <path d=\"M18.56 5.44l.94 2.06.94-2.06 2.06-.94-2.06-.94-.94-2.06-.94 2.06-2.06.94zm-11 1L8.5 8.5l.94-2.06 2.06-.94-2.06-.94L8.5 2.5l-.94 2.06-2.06.94zm10 10l.94 2.06.94-2.06 2.06-.94-2.06-.94-.94-2.06-.94 2.06-2.06.94z\"/><path d=\"M17.41 7.96l-1.37-1.37c-.4-.4-.92-.59-1.43-.59-.52 0-1.04.2-1.43.59L10.3 9.45l-7.72 7.72c-.78.78-.78 2.05 0 2.83L4 21.41c.39.39.9.59 1.41.59.51 0 1.02-.2 1.41-.59l7.78-7.78 2.81-2.81c.8-.78.8-2.07 0-2.86zM5.41 20L4 18.59l7.72-7.72 1.47 1.35L5.41 20z\"/>\n",
              "  </svg>\n",
              "      </button>\n",
              "      \n",
              "  <style>\n",
              "    .colab-df-container {\n",
              "      display:flex;\n",
              "      flex-wrap:wrap;\n",
              "      gap: 12px;\n",
              "    }\n",
              "\n",
              "    .colab-df-convert {\n",
              "      background-color: #E8F0FE;\n",
              "      border: none;\n",
              "      border-radius: 50%;\n",
              "      cursor: pointer;\n",
              "      display: none;\n",
              "      fill: #1967D2;\n",
              "      height: 32px;\n",
              "      padding: 0 0 0 0;\n",
              "      width: 32px;\n",
              "    }\n",
              "\n",
              "    .colab-df-convert:hover {\n",
              "      background-color: #E2EBFA;\n",
              "      box-shadow: 0px 1px 2px rgba(60, 64, 67, 0.3), 0px 1px 3px 1px rgba(60, 64, 67, 0.15);\n",
              "      fill: #174EA6;\n",
              "    }\n",
              "\n",
              "    [theme=dark] .colab-df-convert {\n",
              "      background-color: #3B4455;\n",
              "      fill: #D2E3FC;\n",
              "    }\n",
              "\n",
              "    [theme=dark] .colab-df-convert:hover {\n",
              "      background-color: #434B5C;\n",
              "      box-shadow: 0px 1px 3px 1px rgba(0, 0, 0, 0.15);\n",
              "      filter: drop-shadow(0px 1px 2px rgba(0, 0, 0, 0.3));\n",
              "      fill: #FFFFFF;\n",
              "    }\n",
              "  </style>\n",
              "\n",
              "      <script>\n",
              "        const buttonEl =\n",
              "          document.querySelector('#df-8400fb59-d7e3-4674-a424-2329792739c2 button.colab-df-convert');\n",
              "        buttonEl.style.display =\n",
              "          google.colab.kernel.accessAllowed ? 'block' : 'none';\n",
              "\n",
              "        async function convertToInteractive(key) {\n",
              "          const element = document.querySelector('#df-8400fb59-d7e3-4674-a424-2329792739c2');\n",
              "          const dataTable =\n",
              "            await google.colab.kernel.invokeFunction('convertToInteractive',\n",
              "                                                     [key], {});\n",
              "          if (!dataTable) return;\n",
              "\n",
              "          const docLinkHtml = 'Like what you see? Visit the ' +\n",
              "            '<a target=\"_blank\" href=https://colab.research.google.com/notebooks/data_table.ipynb>data table notebook</a>'\n",
              "            + ' to learn more about interactive tables.';\n",
              "          element.innerHTML = '';\n",
              "          dataTable['output_type'] = 'display_data';\n",
              "          await google.colab.output.renderOutput(dataTable, element);\n",
              "          const docLink = document.createElement('div');\n",
              "          docLink.innerHTML = docLinkHtml;\n",
              "          element.appendChild(docLink);\n",
              "        }\n",
              "      </script>\n",
              "    </div>\n",
              "  </div>\n",
              "  "
            ]
          },
          "metadata": {},
          "execution_count": 9
        }
      ]
    },
    {
      "cell_type": "markdown",
      "source": [
        "#mengecek kekosongan nilai"
      ],
      "metadata": {
        "id": "eJ45S1fKagp7"
      }
    },
    {
      "cell_type": "code",
      "source": [
        "data_baru.isnull().sum()"
      ],
      "metadata": {
        "id": "tdhXVLToK7P8",
        "colab": {
          "base_uri": "https://localhost:8080/"
        },
        "outputId": "0bc1a829-66b5-4fa5-93e3-aca4b45b7e1a"
      },
      "execution_count": 10,
      "outputs": [
        {
          "output_type": "execute_result",
          "data": {
            "text/plain": [
              "Jenis Kelamin           0\n",
              "Umur                    0\n",
              "Pendapatan-per-bulan    0\n",
              "skor-pengeluaran        0\n",
              "Menikah                 0\n",
              "Kota                    0\n",
              "Promo                   0\n",
              "HariFav                 0\n",
              "FavFlavor               0\n",
              "dtype: int64"
            ]
          },
          "metadata": {},
          "execution_count": 10
        }
      ]
    },
    {
      "cell_type": "markdown",
      "source": [
        "MENGISI MISSING VALUE DI EXCELL\n",
        "Keterangan :\n",
        "1. Missing Value di Variabel Gender diisi dengan Wanita (berdasarkan modus)\n",
        "2. Missing Value di Variabel Menikah diisi dengan angka \"1\" yang berarti Menikah (berdasarkan modus)\n",
        "3. Missing Value di Variabel Promo diisi dengan angka \"1\" yang berati Jarang (berdasarkan modus)\n",
        "4. Pada Variabel FavFlavor menggati angka \"9\" dengan angka \"0\" karena di Data Understanding tidak terdapat angka \"9\" (berdasarkan modus)\n",
        "5. Pada Variable FavFlavor terdapat angka \"2\" namun pada Data Understanding tidak adanya angka \"2\", lalu disini kita mengasumsikan bahwa angka \"2\" ada namun di Data Understanding terhapus atau hilang"
      ],
      "metadata": {
        "id": "jR2QpK7HLT_g"
      }
    },
    {
      "cell_type": "markdown",
      "source": [
        "#Pengecekan Kembali"
      ],
      "metadata": {
        "id": "i5TY6ELOLe0c"
      }
    },
    {
      "cell_type": "code",
      "source": [
        "data_baru.duplicated().sum()"
      ],
      "metadata": {
        "id": "jZVTczj7Lgrd",
        "colab": {
          "base_uri": "https://localhost:8080/"
        },
        "outputId": "8a0d6613-8953-4ef0-f24b-08b1824e7941"
      },
      "execution_count": 11,
      "outputs": [
        {
          "output_type": "execute_result",
          "data": {
            "text/plain": [
              "0"
            ]
          },
          "metadata": {},
          "execution_count": 11
        }
      ]
    },
    {
      "cell_type": "markdown",
      "source": [
        "#DATA SUDAH SIAP"
      ],
      "metadata": {
        "id": "O5EMGaeJ842M"
      }
    },
    {
      "cell_type": "code",
      "source": [
        "data_baru"
      ],
      "metadata": {
        "colab": {
          "base_uri": "https://localhost:8080/",
          "height": 423
        },
        "id": "DCYXlv0B88Yv",
        "outputId": "ad4442ab-1e90-4f99-f735-34f07e1ef35f"
      },
      "execution_count": 12,
      "outputs": [
        {
          "output_type": "execute_result",
          "data": {
            "text/plain": [
              "    Jenis Kelamin  Umur  Pendapatan-per-bulan  skor-pengeluaran  Menikah  \\\n",
              "0          Wanita    49              13114754                52        1   \n",
              "1          Wanita    32              33606557                86        1   \n",
              "2            Pria    51              15983606                41        1   \n",
              "3            Pria    19              12704918                55        0   \n",
              "4          Wanita    38              20081967                42        1   \n",
              "..            ...   ...                   ...               ...      ...   \n",
              "195          Pria    31               4098360                73        1   \n",
              "196          Pria    57              15983606                51        1   \n",
              "197        Wanita    35              43032786                79        1   \n",
              "198        Wanita    23               1229508                94        1   \n",
              "199          Pria    50               1639344                14        1   \n",
              "\n",
              "          Kota  Promo HariFav  FavFlavor  \n",
              "0      Jakarta      1   Sabtu          2  \n",
              "1        Depok      1  Minggu          6  \n",
              "2      Jakarta      2  Minggu          3  \n",
              "3      Jakarta      1    Rabu          7  \n",
              "4      Jakarta      2   Senin          8  \n",
              "..         ...    ...     ...        ...  \n",
              "195      Depok      1   Senin          0  \n",
              "196    Jakarta      1  Minggu          5  \n",
              "197      Depok      1   Senin          7  \n",
              "198      Depok      0  Selasa          0  \n",
              "199  Tangerang      3  Minggu          6  \n",
              "\n",
              "[200 rows x 9 columns]"
            ],
            "text/html": [
              "\n",
              "  <div id=\"df-44f40651-0c54-416d-a87f-912523ca1a69\">\n",
              "    <div class=\"colab-df-container\">\n",
              "      <div>\n",
              "<style scoped>\n",
              "    .dataframe tbody tr th:only-of-type {\n",
              "        vertical-align: middle;\n",
              "    }\n",
              "\n",
              "    .dataframe tbody tr th {\n",
              "        vertical-align: top;\n",
              "    }\n",
              "\n",
              "    .dataframe thead th {\n",
              "        text-align: right;\n",
              "    }\n",
              "</style>\n",
              "<table border=\"1\" class=\"dataframe\">\n",
              "  <thead>\n",
              "    <tr style=\"text-align: right;\">\n",
              "      <th></th>\n",
              "      <th>Jenis Kelamin</th>\n",
              "      <th>Umur</th>\n",
              "      <th>Pendapatan-per-bulan</th>\n",
              "      <th>skor-pengeluaran</th>\n",
              "      <th>Menikah</th>\n",
              "      <th>Kota</th>\n",
              "      <th>Promo</th>\n",
              "      <th>HariFav</th>\n",
              "      <th>FavFlavor</th>\n",
              "    </tr>\n",
              "  </thead>\n",
              "  <tbody>\n",
              "    <tr>\n",
              "      <th>0</th>\n",
              "      <td>Wanita</td>\n",
              "      <td>49</td>\n",
              "      <td>13114754</td>\n",
              "      <td>52</td>\n",
              "      <td>1</td>\n",
              "      <td>Jakarta</td>\n",
              "      <td>1</td>\n",
              "      <td>Sabtu</td>\n",
              "      <td>2</td>\n",
              "    </tr>\n",
              "    <tr>\n",
              "      <th>1</th>\n",
              "      <td>Wanita</td>\n",
              "      <td>32</td>\n",
              "      <td>33606557</td>\n",
              "      <td>86</td>\n",
              "      <td>1</td>\n",
              "      <td>Depok</td>\n",
              "      <td>1</td>\n",
              "      <td>Minggu</td>\n",
              "      <td>6</td>\n",
              "    </tr>\n",
              "    <tr>\n",
              "      <th>2</th>\n",
              "      <td>Pria</td>\n",
              "      <td>51</td>\n",
              "      <td>15983606</td>\n",
              "      <td>41</td>\n",
              "      <td>1</td>\n",
              "      <td>Jakarta</td>\n",
              "      <td>2</td>\n",
              "      <td>Minggu</td>\n",
              "      <td>3</td>\n",
              "    </tr>\n",
              "    <tr>\n",
              "      <th>3</th>\n",
              "      <td>Pria</td>\n",
              "      <td>19</td>\n",
              "      <td>12704918</td>\n",
              "      <td>55</td>\n",
              "      <td>0</td>\n",
              "      <td>Jakarta</td>\n",
              "      <td>1</td>\n",
              "      <td>Rabu</td>\n",
              "      <td>7</td>\n",
              "    </tr>\n",
              "    <tr>\n",
              "      <th>4</th>\n",
              "      <td>Wanita</td>\n",
              "      <td>38</td>\n",
              "      <td>20081967</td>\n",
              "      <td>42</td>\n",
              "      <td>1</td>\n",
              "      <td>Jakarta</td>\n",
              "      <td>2</td>\n",
              "      <td>Senin</td>\n",
              "      <td>8</td>\n",
              "    </tr>\n",
              "    <tr>\n",
              "      <th>...</th>\n",
              "      <td>...</td>\n",
              "      <td>...</td>\n",
              "      <td>...</td>\n",
              "      <td>...</td>\n",
              "      <td>...</td>\n",
              "      <td>...</td>\n",
              "      <td>...</td>\n",
              "      <td>...</td>\n",
              "      <td>...</td>\n",
              "    </tr>\n",
              "    <tr>\n",
              "      <th>195</th>\n",
              "      <td>Pria</td>\n",
              "      <td>31</td>\n",
              "      <td>4098360</td>\n",
              "      <td>73</td>\n",
              "      <td>1</td>\n",
              "      <td>Depok</td>\n",
              "      <td>1</td>\n",
              "      <td>Senin</td>\n",
              "      <td>0</td>\n",
              "    </tr>\n",
              "    <tr>\n",
              "      <th>196</th>\n",
              "      <td>Pria</td>\n",
              "      <td>57</td>\n",
              "      <td>15983606</td>\n",
              "      <td>51</td>\n",
              "      <td>1</td>\n",
              "      <td>Jakarta</td>\n",
              "      <td>1</td>\n",
              "      <td>Minggu</td>\n",
              "      <td>5</td>\n",
              "    </tr>\n",
              "    <tr>\n",
              "      <th>197</th>\n",
              "      <td>Wanita</td>\n",
              "      <td>35</td>\n",
              "      <td>43032786</td>\n",
              "      <td>79</td>\n",
              "      <td>1</td>\n",
              "      <td>Depok</td>\n",
              "      <td>1</td>\n",
              "      <td>Senin</td>\n",
              "      <td>7</td>\n",
              "    </tr>\n",
              "    <tr>\n",
              "      <th>198</th>\n",
              "      <td>Wanita</td>\n",
              "      <td>23</td>\n",
              "      <td>1229508</td>\n",
              "      <td>94</td>\n",
              "      <td>1</td>\n",
              "      <td>Depok</td>\n",
              "      <td>0</td>\n",
              "      <td>Selasa</td>\n",
              "      <td>0</td>\n",
              "    </tr>\n",
              "    <tr>\n",
              "      <th>199</th>\n",
              "      <td>Pria</td>\n",
              "      <td>50</td>\n",
              "      <td>1639344</td>\n",
              "      <td>14</td>\n",
              "      <td>1</td>\n",
              "      <td>Tangerang</td>\n",
              "      <td>3</td>\n",
              "      <td>Minggu</td>\n",
              "      <td>6</td>\n",
              "    </tr>\n",
              "  </tbody>\n",
              "</table>\n",
              "<p>200 rows × 9 columns</p>\n",
              "</div>\n",
              "      <button class=\"colab-df-convert\" onclick=\"convertToInteractive('df-44f40651-0c54-416d-a87f-912523ca1a69')\"\n",
              "              title=\"Convert this dataframe to an interactive table.\"\n",
              "              style=\"display:none;\">\n",
              "        \n",
              "  <svg xmlns=\"http://www.w3.org/2000/svg\" height=\"24px\"viewBox=\"0 0 24 24\"\n",
              "       width=\"24px\">\n",
              "    <path d=\"M0 0h24v24H0V0z\" fill=\"none\"/>\n",
              "    <path d=\"M18.56 5.44l.94 2.06.94-2.06 2.06-.94-2.06-.94-.94-2.06-.94 2.06-2.06.94zm-11 1L8.5 8.5l.94-2.06 2.06-.94-2.06-.94L8.5 2.5l-.94 2.06-2.06.94zm10 10l.94 2.06.94-2.06 2.06-.94-2.06-.94-.94-2.06-.94 2.06-2.06.94z\"/><path d=\"M17.41 7.96l-1.37-1.37c-.4-.4-.92-.59-1.43-.59-.52 0-1.04.2-1.43.59L10.3 9.45l-7.72 7.72c-.78.78-.78 2.05 0 2.83L4 21.41c.39.39.9.59 1.41.59.51 0 1.02-.2 1.41-.59l7.78-7.78 2.81-2.81c.8-.78.8-2.07 0-2.86zM5.41 20L4 18.59l7.72-7.72 1.47 1.35L5.41 20z\"/>\n",
              "  </svg>\n",
              "      </button>\n",
              "      \n",
              "  <style>\n",
              "    .colab-df-container {\n",
              "      display:flex;\n",
              "      flex-wrap:wrap;\n",
              "      gap: 12px;\n",
              "    }\n",
              "\n",
              "    .colab-df-convert {\n",
              "      background-color: #E8F0FE;\n",
              "      border: none;\n",
              "      border-radius: 50%;\n",
              "      cursor: pointer;\n",
              "      display: none;\n",
              "      fill: #1967D2;\n",
              "      height: 32px;\n",
              "      padding: 0 0 0 0;\n",
              "      width: 32px;\n",
              "    }\n",
              "\n",
              "    .colab-df-convert:hover {\n",
              "      background-color: #E2EBFA;\n",
              "      box-shadow: 0px 1px 2px rgba(60, 64, 67, 0.3), 0px 1px 3px 1px rgba(60, 64, 67, 0.15);\n",
              "      fill: #174EA6;\n",
              "    }\n",
              "\n",
              "    [theme=dark] .colab-df-convert {\n",
              "      background-color: #3B4455;\n",
              "      fill: #D2E3FC;\n",
              "    }\n",
              "\n",
              "    [theme=dark] .colab-df-convert:hover {\n",
              "      background-color: #434B5C;\n",
              "      box-shadow: 0px 1px 3px 1px rgba(0, 0, 0, 0.15);\n",
              "      filter: drop-shadow(0px 1px 2px rgba(0, 0, 0, 0.3));\n",
              "      fill: #FFFFFF;\n",
              "    }\n",
              "  </style>\n",
              "\n",
              "      <script>\n",
              "        const buttonEl =\n",
              "          document.querySelector('#df-44f40651-0c54-416d-a87f-912523ca1a69 button.colab-df-convert');\n",
              "        buttonEl.style.display =\n",
              "          google.colab.kernel.accessAllowed ? 'block' : 'none';\n",
              "\n",
              "        async function convertToInteractive(key) {\n",
              "          const element = document.querySelector('#df-44f40651-0c54-416d-a87f-912523ca1a69');\n",
              "          const dataTable =\n",
              "            await google.colab.kernel.invokeFunction('convertToInteractive',\n",
              "                                                     [key], {});\n",
              "          if (!dataTable) return;\n",
              "\n",
              "          const docLinkHtml = 'Like what you see? Visit the ' +\n",
              "            '<a target=\"_blank\" href=https://colab.research.google.com/notebooks/data_table.ipynb>data table notebook</a>'\n",
              "            + ' to learn more about interactive tables.';\n",
              "          element.innerHTML = '';\n",
              "          dataTable['output_type'] = 'display_data';\n",
              "          await google.colab.output.renderOutput(dataTable, element);\n",
              "          const docLink = document.createElement('div');\n",
              "          docLink.innerHTML = docLinkHtml;\n",
              "          element.appendChild(docLink);\n",
              "        }\n",
              "      </script>\n",
              "    </div>\n",
              "  </div>\n",
              "  "
            ]
          },
          "metadata": {},
          "execution_count": 12
        }
      ]
    },
    {
      "cell_type": "markdown",
      "source": [
        "#VISUALISASI EDA"
      ],
      "metadata": {
        "id": "1dC-mok29PuR"
      }
    },
    {
      "cell_type": "code",
      "source": [
        "sns.histplot(data=data_baru, x='Pendapatan-per-bulan')"
      ],
      "metadata": {
        "colab": {
          "base_uri": "https://localhost:8080/",
          "height": 303
        },
        "id": "3iYfYuzR9S-3",
        "outputId": "1998ce81-89b3-4dfc-fe71-c3a781629f5e"
      },
      "execution_count": 13,
      "outputs": [
        {
          "output_type": "execute_result",
          "data": {
            "text/plain": [
              "<matplotlib.axes._subplots.AxesSubplot at 0x7f9d7347bb10>"
            ]
          },
          "metadata": {},
          "execution_count": 13
        },
        {
          "output_type": "display_data",
          "data": {
            "text/plain": [
              "<Figure size 432x288 with 1 Axes>"
            ],
            "image/png": "[encoded data removed]"
          },
          "metadata": {}
        }
      ]
    },
    {
      "cell_type": "code",
      "source": [
        "sns.histplot(data=data_baru, x='Umur')"
      ],
      "metadata": {
        "colab": {
          "base_uri": "https://localhost:8080/",
          "height": 303
        },
        "id": "V248j1me-msL",
        "outputId": "7cd9129e-870c-434c-9b34-20fca08591f2"
      },
      "execution_count": 14,
      "outputs": [
        {
          "output_type": "execute_result",
          "data": {
            "text/plain": [
              "<matplotlib.axes._subplots.AxesSubplot at 0x7f9d72eb72d0>"
            ]
          },
          "metadata": {},
          "execution_count": 14
        },
        {
          "output_type": "display_data",
          "data": {
            "text/plain": [
              "<Figure size 432x288 with 1 Axes>"
            ],
            "image/png": "[encoded data removed]"
          },
          "metadata": {}
        }
      ]
    },
    {
      "cell_type": "code",
      "source": [
        "plt.figure(figsize=(8,8))\n",
        "p=sns.countplot(x=\"Jenis Kelamin\", hue=\"FavFlavor\", data=data_baru)"
      ],
      "metadata": {
        "colab": {
          "base_uri": "https://localhost:8080/",
          "height": 502
        },
        "id": "gE1l_Mc4XYI3",
        "outputId": "58b9fcd2-6527-416a-f25f-e1e2b69ee8aa"
      },
      "execution_count": 15,
      "outputs": [
        {
          "output_type": "display_data",
          "data": {
            "text/plain": [
              "<Figure size 576x576 with 1 Axes>"
            ],
            "image/png": "[encoded data removed]"
          },
          "metadata": {}
        }
      ]
    },
    {
      "cell_type": "markdown",
      "source": [
        "Produk MIXITUP yang paling banyak diminati dikalangan pria dan wanita yaitu es krim rasa Vanilla, karena rasa Vanilla memiliki cita rasa yang khas dan cocok dipadukan dengan cita rasa lainnya.\n",
        "Sedangkan untuk es krim rasa Matcha kurang diminati dikalangan pria dan untuk eskrim rasa BubbleGum/Cotton Candy kurang diminati dikalangan wanita.\n",
        "Karena rasa Matcha dan BubbleGum/Cotton Candy merupakan rasa baru yang asing di lidah *customer* MIXITUP."
      ],
      "metadata": {
        "id": "UlIJowdwX3gr"
      }
    },
    {
      "cell_type": "code",
      "source": [
        "plt.figure(figsize=(8,8))\n",
        "p=sns.countplot(x=\"HariFav\", hue=\"FavFlavor\", data=data_baru)"
      ],
      "metadata": {
        "id": "dQi97K7km4Tf",
        "outputId": "6c22880e-62e6-4c01-d191-bb06ad774214",
        "colab": {
          "base_uri": "https://localhost:8080/",
          "height": 502
        }
      },
      "execution_count": 16,
      "outputs": [
        {
          "output_type": "display_data",
          "data": {
            "text/plain": [
              "<Figure size 576x576 with 1 Axes>"
            ],
            "image/png": "[encoded data removed]"
          },
          "metadata": {}
        }
      ]
    },
    {
      "cell_type": "markdown",
      "source": [
        "Untuk meningkatkan penjualan, kami rekomendasikan:\n",
        "- Diadakan promo untuk rasa selain vanila, coklat, dan bubblegum/cottoncandy pada hari Jum'at\n",
        "- Diadakan promo untuk rasa selain vanila, strawberry, coconut, caramel pecan, dan mix flavors pada hari Kamis\n",
        "- Diadakan promo untuk rasa selain vanila, strawberry, coconut, caramel pecan, dan mix flavors pada hari Rabu"
      ],
      "metadata": {
        "id": "VJ1cf-SnnS_7"
      }
    },
    {
      "cell_type": "markdown",
      "source": [
        "#Menentukan Clustering pada Data"
      ],
      "metadata": {
        "id": "ujTmCAa5NGBr"
      }
    },
    {
      "cell_type": "code",
      "source": [
        "dft = sns.load_dataset('data_baru')\n",
        "X = dft[['Menikah', 'Promo', 'FavFlavor']]#.values\n",
        "C = dft['Jenis Kelamin']#.values\n",
        "print(X.shape)\n",
        "dft.sample(7)"
      ],
      "metadata": {
        "colab": {
          "base_uri": "https://localhost:8080/",
          "height": 363
        },
        "id": "GnwWWqhjBm1q",
        "outputId": "6f835fc7-89da-47a5-d237-8c88fc02a6cf"
      },
      "execution_count": 17,
      "outputs": [
        {
          "output_type": "error",
          "ename": "ValueError",
          "evalue": "ignored",
          "traceback": [
            "\u001b[0;31m---------------------------------------------------------------------------\u001b[0m",
            "\u001b[0;31mValueError\u001b[0m                                Traceback (most recent call last)",
            "\u001b[0;32m<ipython-input-17-c1550fa58135>\u001b[0m in \u001b[0;36m<module>\u001b[0;34m\u001b[0m\n\u001b[0;32m----> 1\u001b[0;31m \u001b[0mdft\u001b[0m \u001b[0;34m=\u001b[0m \u001b[0msns\u001b[0m\u001b[0;34m.\u001b[0m\u001b[0mload_dataset\u001b[0m\u001b[0;34m(\u001b[0m\u001b[0;34m'data_baru'\u001b[0m\u001b[0;34m)\u001b[0m\u001b[0;34m\u001b[0m\u001b[0;34m\u001b[0m\u001b[0m\n\u001b[0m\u001b[1;32m      2\u001b[0m \u001b[0mX\u001b[0m \u001b[0;34m=\u001b[0m \u001b[0mdft\u001b[0m\u001b[0;34m[\u001b[0m\u001b[0;34m[\u001b[0m\u001b[0;34m'Menikah'\u001b[0m\u001b[0;34m,\u001b[0m \u001b[0;34m'Promo'\u001b[0m\u001b[0;34m,\u001b[0m \u001b[0;34m'FavFlavor'\u001b[0m\u001b[0;34m]\u001b[0m\u001b[0;34m]\u001b[0m\u001b[0;31m#.values\u001b[0m\u001b[0;34m\u001b[0m\u001b[0;34m\u001b[0m\u001b[0m\n\u001b[1;32m      3\u001b[0m \u001b[0mC\u001b[0m \u001b[0;34m=\u001b[0m \u001b[0mdft\u001b[0m\u001b[0;34m[\u001b[0m\u001b[0;34m'Jenis Kelamin'\u001b[0m\u001b[0;34m]\u001b[0m\u001b[0;31m#.values\u001b[0m\u001b[0;34m\u001b[0m\u001b[0;34m\u001b[0m\u001b[0m\n\u001b[1;32m      4\u001b[0m \u001b[0mprint\u001b[0m\u001b[0;34m(\u001b[0m\u001b[0mX\u001b[0m\u001b[0;34m.\u001b[0m\u001b[0mshape\u001b[0m\u001b[0;34m)\u001b[0m\u001b[0;34m\u001b[0m\u001b[0;34m\u001b[0m\u001b[0m\n\u001b[1;32m      5\u001b[0m \u001b[0mdft\u001b[0m\u001b[0;34m.\u001b[0m\u001b[0msample\u001b[0m\u001b[0;34m(\u001b[0m\u001b[0;36m7\u001b[0m\u001b[0;34m)\u001b[0m\u001b[0;34m\u001b[0m\u001b[0;34m\u001b[0m\u001b[0m\n",
            "\u001b[0;32m/usr/local/lib/python3.7/dist-packages/seaborn/utils.py\u001b[0m in \u001b[0;36mload_dataset\u001b[0;34m(name, cache, data_home, **kws)\u001b[0m\n\u001b[1;32m    593\u001b[0m         \u001b[0;32mif\u001b[0m \u001b[0;32mnot\u001b[0m \u001b[0mos\u001b[0m\u001b[0;34m.\u001b[0m\u001b[0mpath\u001b[0m\u001b[0;34m.\u001b[0m\u001b[0mexists\u001b[0m\u001b[0;34m(\u001b[0m\u001b[0mcache_path\u001b[0m\u001b[0;34m)\u001b[0m\u001b[0;34m:\u001b[0m\u001b[0;34m\u001b[0m\u001b[0;34m\u001b[0m\u001b[0m\n\u001b[1;32m    594\u001b[0m             \u001b[0;32mif\u001b[0m \u001b[0mname\u001b[0m \u001b[0;32mnot\u001b[0m \u001b[0;32min\u001b[0m \u001b[0mget_dataset_names\u001b[0m\u001b[0;34m(\u001b[0m\u001b[0;34m)\u001b[0m\u001b[0;34m:\u001b[0m\u001b[0;34m\u001b[0m\u001b[0;34m\u001b[0m\u001b[0m\n\u001b[0;32m--> 595\u001b[0;31m                 \u001b[0;32mraise\u001b[0m \u001b[0mValueError\u001b[0m\u001b[0;34m(\u001b[0m\u001b[0;34mf\"'{name}' is not one of the example datasets.\"\u001b[0m\u001b[0;34m)\u001b[0m\u001b[0;34m\u001b[0m\u001b[0;34m\u001b[0m\u001b[0m\n\u001b[0m\u001b[1;32m    596\u001b[0m             \u001b[0murlretrieve\u001b[0m\u001b[0;34m(\u001b[0m\u001b[0murl\u001b[0m\u001b[0;34m,\u001b[0m \u001b[0mcache_path\u001b[0m\u001b[0;34m)\u001b[0m\u001b[0;34m\u001b[0m\u001b[0;34m\u001b[0m\u001b[0m\n\u001b[1;32m    597\u001b[0m         \u001b[0mfull_path\u001b[0m \u001b[0;34m=\u001b[0m \u001b[0mcache_path\u001b[0m\u001b[0;34m\u001b[0m\u001b[0;34m\u001b[0m\u001b[0m\n",
            "\u001b[0;31mValueError\u001b[0m: 'data_baru' is not one of the example datasets."
          ]
        }
      ]
    },
    {
      "cell_type": "code",
      "source": [
        "g = sns.pairplot(data_baru, hue=\"Jenis Kelamin\")"
      ],
      "metadata": {
        "id": "4aBTPWCIH6fN"
      },
      "execution_count": null,
      "outputs": []
    },
    {
      "cell_type": "code",
      "source": [
        "k=3\n",
        "kmPP = cluster.KMeans(n_clusters=k, init='k-means++', max_iter=300, tol=0.0001, random_state = random_state)\n",
        "kmPP.fit(X)\n",
        "C_kmpp = kmPP.predict(X)\n",
        "\n",
        "sns.countplot(x=C_kmpp)\n",
        "C_kmpp[:10]"
      ],
      "metadata": {
        "id": "1wrjw157NK7P"
      },
      "execution_count": null,
      "outputs": []
    }
  ]
}