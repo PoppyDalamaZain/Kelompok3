{
  "nbformat": 4,
  "nbformat_minor": 0,
  "metadata": {
    "colab": {
      "provenance": [],
      "include_colab_link": true
    },
    "kernelspec": {
      "name": "python3",
      "display_name": "Python 3"
    },
    "language_info": {
      "name": "python"
    }
  },
  "cells": [
    {
      "cell_type": "markdown",
      "metadata": {
        "id": "view-in-github",
        "colab_type": "text"
      },
      "source": [
        "<a href=\"https://colab.research.google.com/github/PoppyDalamaZain/Kelompok3/blob/main/worksheet.ipynb\" target=\"_parent\"><img src=\"https://colab.research.google.com/assets/colab-badge.svg\" alt=\"Open In Colab\"/></a>"
      ]
    },
    {
      "cell_type": "markdown",
      "source": [
        "\n",
        "#Import Packages\n",
        "\n"
      ],
      "metadata": {
        "id": "AbopZkT_tC8e"
      }
    },
    {
      "cell_type": "code",
      "source": [
        "import numpy as np\n",
        "import pandas as pd\n",
        "import matplotlib.pyplot as plt\n",
        "import seaborn as sns\n",
        "import warnings; warnings.simplefilter('ignore')\n",
        "from datetime import datetime"
      ],
      "metadata": {
        "id": "JhBJtvU7s6jT"
      },
      "execution_count": 7,
      "outputs": []
    },
    {
      "cell_type": "markdown",
      "source": [
        "#Memanggil Data"
      ],
      "metadata": {
        "id": "vD_DZ2rptxx9"
      }
    },
    {
      "cell_type": "code",
      "source": [
        "!mkdir data\n",
        "!wget -P data/ https://raw.githubusercontent.com/PoppyDalamaZain/Kelompok3/main/data/Case-Study-02-MixITup_kelompok3.csv\n",
        "df = pd.read_csv(\"data/Case-Study-02-MixITup_kelompok3.csv\", low_memory = False, encoding='utf8')\n",
        "    \n",
        "df.shape"
      ],
      "metadata": {
        "id": "Auc7TJRDt6TM",
        "outputId": "1e9ce38a-e63b-4171-d860-c13c638157a9",
        "colab": {
          "base_uri": "https://localhost:8080/"
        }
      },
      "execution_count": 8,
      "outputs": [
        {
          "output_type": "stream",
          "name": "stdout",
          "text": [
            "mkdir: cannot create directory ‘data’: File exists\n",
            "--2022-10-12 01:32:07--  https://raw.githubusercontent.com/PoppyDalamaZain/Kelompok3/main/data/Case-Study-02-MixITup_kelompok3.csv\n",
            "Resolving raw.githubusercontent.com (raw.githubusercontent.com)... 185.199.111.133, 185.199.109.133, 185.199.110.133, ...\n",
            "Connecting to raw.githubusercontent.com (raw.githubusercontent.com)|185.199.111.133|:443... connected.\n",
            "HTTP request sent, awaiting response... 200 OK\n",
            "Length: 10088 (9.9K) [text/plain]\n",
            "Saving to: ‘data/Case-Study-02-MixITup_kelompok3.csv’\n",
            "\n",
            "Case-Study-02-MixIT 100%[===================>]   9.85K  --.-KB/s    in 0s      \n",
            "\n",
            "2022-10-12 01:32:07 (64.2 MB/s) - ‘data/Case-Study-02-MixITup_kelompok3.csv’ saved [10088/10088]\n",
            "\n"
          ]
        },
        {
          "output_type": "execute_result",
          "data": {
            "text/plain": [
              "(200, 10)"
            ]
          },
          "metadata": {},
          "execution_count": 8
        }
      ]
    },
    {
      "cell_type": "markdown",
      "source": [
        "Melihat Varibel"
      ],
      "metadata": {
        "id": "pu_gvuLaJ8w8"
      }
    },
    {
      "cell_type": "code",
      "source": [
        "df.columns"
      ],
      "metadata": {
        "id": "Z4e1sTavKOCQ",
        "outputId": "b1c8f428-a8ba-4346-8540-ed8f63748f1b",
        "colab": {
          "base_uri": "https://localhost:8080/"
        }
      },
      "execution_count": 9,
      "outputs": [
        {
          "output_type": "execute_result",
          "data": {
            "text/plain": [
              "Index(['ID', 'Jenis Kelamin', 'Umur', 'Pendapatan-per-bulan',\n",
              "       'skor-pengeluaran', 'Menikah', 'Kota', 'Promo', 'HariFav', 'FavFlavor'],\n",
              "      dtype='object')"
            ]
          },
          "metadata": {},
          "execution_count": 9
        }
      ]
    },
    {
      "cell_type": "markdown",
      "source": [
        "Jumlah Baris dan Kolom pada data"
      ],
      "metadata": {
        "id": "Myh8v8QbKZHk"
      }
    },
    {
      "cell_type": "code",
      "source": [
        "B, K = df.shape\n",
        "print('Baris = ', B, ', Kolom = ', K)"
      ],
      "metadata": {
        "id": "kdSOp7gtKfVJ",
        "outputId": "aae7e19c-adfb-4abd-9456-b44c162edb65",
        "colab": {
          "base_uri": "https://localhost:8080/"
        }
      },
      "execution_count": 10,
      "outputs": [
        {
          "output_type": "stream",
          "name": "stdout",
          "text": [
            "Baris =  200 , Kolom =  10\n"
          ]
        }
      ]
    },
    {
      "cell_type": "markdown",
      "source": [
        "Melihat Tipe dari setiap Variabel"
      ],
      "metadata": {
        "id": "X0hQy0JQKhrw"
      }
    },
    {
      "cell_type": "code",
      "source": [
        "df.info()"
      ],
      "metadata": {
        "id": "s_blGXLrKpdk",
        "outputId": "4e159722-fa3c-496f-ce22-2eac52e1f13a",
        "colab": {
          "base_uri": "https://localhost:8080/"
        }
      },
      "execution_count": 11,
      "outputs": [
        {
          "output_type": "stream",
          "name": "stdout",
          "text": [
            "<class 'pandas.core.frame.DataFrame'>\n",
            "RangeIndex: 200 entries, 0 to 199\n",
            "Data columns (total 10 columns):\n",
            " #   Column                Non-Null Count  Dtype \n",
            "---  ------                --------------  ----- \n",
            " 0   ID                    200 non-null    int64 \n",
            " 1   Jenis Kelamin         200 non-null    object\n",
            " 2   Umur                  200 non-null    int64 \n",
            " 3   Pendapatan-per-bulan  200 non-null    object\n",
            " 4   skor-pengeluaran      200 non-null    int64 \n",
            " 5   Menikah               200 non-null    int64 \n",
            " 6   Kota                  200 non-null    object\n",
            " 7   Promo                 200 non-null    int64 \n",
            " 8   HariFav               200 non-null    object\n",
            " 9   FavFlavor             200 non-null    int64 \n",
            "dtypes: int64(6), object(4)\n",
            "memory usage: 15.8+ KB\n"
          ]
        }
      ]
    },
    {
      "cell_type": "markdown",
      "source": [
        "Mengubah object menjadi kategorik"
      ],
      "metadata": {
        "id": "MxVM4bT30uRQ"
      }
    },
    {
      "cell_type": "code",
      "source": [
        "df['Jenis Kelamin'] = df['Jenis Kelamin'].astype('category')\n",
        "df['Jenis Kelamin'] = df['Jenis Kelamin'].astype('category')"
      ],
      "metadata": {
        "id": "iEyJnbH30zH7"
      },
      "execution_count": null,
      "outputs": []
    },
    {
      "cell_type": "markdown",
      "source": [
        "Menghapus variabel yang tidak diperlukan"
      ],
      "metadata": {
        "id": "9-ypHUIQKuHv"
      }
    },
    {
      "cell_type": "code",
      "source": [
        "data_baru = dfJ.drop(columns = ['URL','deskripsi','hadap','Unnamed: 14','Unnamed: 15', 'Unnamed: 16', 'Unnamed: 17', 'Unnamed: 18', 'Unnamed: 19', 'Unnamed: 20', 'Unnamed: 21','Unnamed: 22', 'Unnamed: 23', 'Unnamed: 24','Unnamed: 25'])\n",
        "data_baru"
      ],
      "metadata": {
        "id": "HFJiMJgWK2dv"
      },
      "execution_count": null,
      "outputs": []
    },
    {
      "cell_type": "code",
      "source": [
        "data_baru.isnull().sum()"
      ],
      "metadata": {
        "id": "tdhXVLToK7P8"
      },
      "execution_count": null,
      "outputs": []
    },
    {
      "cell_type": "markdown",
      "source": [
        "Menghapus Baris yang Kosong"
      ],
      "metadata": {
        "id": "S4KJBudGLC0L"
      }
    },
    {
      "cell_type": "code",
      "source": [
        "data_baru.drop(data_baru.tail(903).index,inplace=True)\n",
        "data_baru"
      ],
      "metadata": {
        "id": "Byh6U-4mLF-6"
      },
      "execution_count": null,
      "outputs": []
    },
    {
      "cell_type": "markdown",
      "source": [
        "Menambhakan Variabel (jika perlu)"
      ],
      "metadata": {
        "id": "-fnAMNJbLLK5"
      }
    },
    {
      "cell_type": "code",
      "source": [
        "data_baru['Wilayah'] = 'Jakarta'\n",
        "data_baru"
      ],
      "metadata": {
        "id": "VizWPil1LOfq"
      },
      "execution_count": null,
      "outputs": []
    },
    {
      "cell_type": "markdown",
      "source": [
        "Mengisi Missing Value dengan 0"
      ],
      "metadata": {
        "id": "jR2QpK7HLT_g"
      }
    },
    {
      "cell_type": "code",
      "source": [
        "# Mengisi missing value variabel garasi dan carport dengan 0\n",
        "garasi = data_baru.garasi.fillna('0')\n",
        "data_baru['garasi'] = data_baru['garasi'].fillna(garasi)\n",
        "carport = data_baru.carport.fillna('0')\n",
        "data_baru['carport'] = data_baru['carport'].fillna(carport)\n",
        "# Mengisi missing value variabel listrik dengan median\n",
        "listrik = data_baru['listrik'].median()\n",
        "data_baru['listrik'] = data_baru['listrik'].fillna(listrik)\n",
        "# Mengisi missing value variabel sertifikat\n",
        "data_baru['sertifikat'] = data_baru['sertifikat'].fillna('Tidak ada')\n",
        "data_baru"
      ],
      "metadata": {
        "id": "Nhy6egwvLW_y"
      },
      "execution_count": null,
      "outputs": []
    },
    {
      "cell_type": "markdown",
      "source": [
        "Pengecekan Kembali"
      ],
      "metadata": {
        "id": "i5TY6ELOLe0c"
      }
    },
    {
      "cell_type": "code",
      "source": [
        "data_baru.duplicated().sum()"
      ],
      "metadata": {
        "id": "jZVTczj7Lgrd"
      },
      "execution_count": null,
      "outputs": []
    },
    {
      "cell_type": "code",
      "source": [
        "data_baru.isnull().sum()"
      ],
      "metadata": {
        "id": "j5k4vpHpLicN"
      },
      "execution_count": null,
      "outputs": []
    },
    {
      "cell_type": "markdown",
      "source": [
        "MENGULANG PROSES DIATAS SAMPAI DATA KE 3"
      ],
      "metadata": {
        "id": "TkjdMuHcLtfS"
      }
    },
    {
      "cell_type": "markdown",
      "source": [
        "#Menggabungkan Ketiga Data tersebut"
      ],
      "metadata": {
        "id": "YUFsxuU5LxMo"
      }
    },
    {
      "cell_type": "code",
      "source": [
        "data3_baru = pd.concat([data_baru, data1_baru, data2_baru], axis = 0)\n",
        "data3_baru"
      ],
      "metadata": {
        "id": "Hb059YOgMAFh"
      },
      "execution_count": null,
      "outputs": []
    },
    {
      "cell_type": "code",
      "source": [
        "data3_baru.isnull().sum()"
      ],
      "metadata": {
        "id": "C_xHbjmXMC-2"
      },
      "execution_count": null,
      "outputs": []
    },
    {
      "cell_type": "markdown",
      "source": [
        "#Menentukan Clustering pada Data"
      ],
      "metadata": {
        "id": "ujTmCAa5NGBr"
      }
    },
    {
      "cell_type": "code",
      "source": [
        "k=3\n",
        "kmPP = cluster.KMeans(n_clusters=k, init='k-means++', max_iter=300, tol=0.0001, random_state = random_state)\n",
        "kmPP.fit(X)\n",
        "C_kmpp = kmPP.predict(X)\n",
        "\n",
        "sns.countplot(x=C_kmpp)\n",
        "C_kmpp[:10]"
      ],
      "metadata": {
        "id": "1wrjw157NK7P"
      },
      "execution_count": null,
      "outputs": []
    }
  ]
}